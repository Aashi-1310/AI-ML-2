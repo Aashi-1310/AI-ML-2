{
  "cells": [
    {
      "cell_type": "code",
      "execution_count": null,
      "metadata": {
        "id": "ydWE_vzMHs7T"
      },
      "outputs": [],
      "source": [
        "# importing the libraries\n",
        "import pandas as pd\n",
        "import numpy as np\n",
        "import seaborn as sns"
      ]
    },
    {
      "cell_type": "code",
      "execution_count": null,
      "metadata": {
        "id": "hO1L5c0UH9Ts"
      },
      "outputs": [],
      "source": [
        "data = pd.read_csv(\"../Dataset/All_Anime.csv\")\n",
        "data.head()"
      ]
    },
    {
      "cell_type": "code",
      "execution_count": null,
      "metadata": {
        "id": "vCnYXsvtIBiA"
      },
      "outputs": [],
      "source": [
        "# analyse the data\n",
        "data.info()\n"
      ]
    },
    {
      "cell_type": "code",
      "execution_count": null,
      "metadata": {},
      "outputs": [],
      "source": [
        "rows, columns = data.shape\n",
        "print(\"number of rows = \",rows)\n",
        "print(\"number of columns = \",columns)\n"
      ]
    },
    {
      "cell_type": "code",
      "execution_count": null,
      "metadata": {},
      "outputs": [],
      "source": [
        "print(\"Ratings Summary:\")\n",
        "print(df['Rating'].describe(), '\\n')"
      ]
    },
    {
      "cell_type": "code",
      "execution_count": null,
      "metadata": {},
      "outputs": [],
      "source": [
        "#Handle time series data\n",
        "def year_processing(year):\n",
        "    try:\n",
        "        if isinstance(year, str):\n",
        "            if '-' in year:  # Handle ranges like \"2013-2023\"\n",
        "                start_year, end_year = year.split('-')\n",
        "                return (int(start_year) + int(end_year)) // 2\n",
        "            elif year.isdigit():  # Handle single years like \"2000\"\n",
        "                return int(year)\n",
        "        return np.nan  # Return NaN for invalid or missing values\n",
        "    except:\n",
        "        return np.nan  # Catch any errors and return NaN\n",
        "\n",
        "data['Year'] = data['Year'].apply(year_processing)\n",
        "\n",
        "# Handle the \"Duration\" column\n",
        "def duration_processing(duration):\n",
        "    try:\n",
        "        if isinstance(duration, str) and 'min' in duration:\n",
        "            return int(duration.split()[0])  # Extract the number before \"min\"\n",
        "        return np.nan  # Return NaN for invalid or missing values\n",
        "    except:\n",
        "        return np.nan  # Catch any errors and return NaN\n",
        "\n",
        "data['Duration'] = data['Duration'].apply(duration_processing)\n",
        "\n",
        "# Display the processed data\n",
        "print(data[['Year', 'Duration']].head())"
      ]
    },
    {
      "cell_type": "code",
      "execution_count": null,
      "metadata": {
        "id": "95K5k-WlISfq"
      },
      "outputs": [],
      "source": [
        "# check for missing values and handle them\n",
        "# Drop the 'Unnamed: 0' \n",
        "data.drop(data.columns[0], axis=1, inplace = True)\n",
        "\n",
        "# Fill missing 'Year' with the most frequent value (mode) \n",
        "data['Year'] = data['Year'].fillna(data['Year'].mode()[0])\n",
        "\n",
        "# Fill missing 'Duration' with the most frequent values\n",
        "data['Duration'] = data['Duration'].fillna(data['Duration'].mode()[0])\n",
        "\n",
        "\n",
        "# Fill missing 'Certificate' with the mode\n",
        "data['Certificate'] = data['Certificate'].fillna(data['Certificate'].mode()[0])\n",
        "\n",
        "# Fill missing 'Genre' with the mode\n",
        "data['Genre'] = data['Genre'].fillna(data['Genre'].mode()[0])\n",
        "\n",
        "# Fill missing 'Rating' with the median rating\n",
        "data['Rating'] = data['Rating'].fillna(data['Rating'].median())\n",
        "\n",
        "# Verify that there are no missing values left\n",
        "print(data.isnull().sum())"
      ]
    },
    {
      "cell_type": "code",
      "execution_count": null,
      "metadata": {
        "id": "wZK6078hIqfD"
      },
      "outputs": [],
      "source": [
        "# use word2vec for \"story\" column\n",
        "from gensim.models import Word2Vec\n",
        "from nltk.tokenize import word_tokenize\n",
        "import nltk"
      ]
    },
    {
      "cell_type": "code",
      "execution_count": null,
      "metadata": {
        "id": "CLcMnOyBKg8h"
      },
      "outputs": [],
      "source": [
        "# Visualise the rating pattern over the years using boxplot"
      ]
    },
    {
      "cell_type": "code",
      "execution_count": null,
      "metadata": {
        "id": "ShXFusdzJjWZ"
      },
      "outputs": [],
      "source": [
        "# Analyse how the duration affects the rating"
      ]
    },
    {
      "cell_type": "code",
      "execution_count": null,
      "metadata": {
        "id": "zvyGKmp4KMTN"
      },
      "outputs": [],
      "source": [
        "# Standardise numerical values and handle categorical columns (get dummies for the genre)"
      ]
    },
    {
      "cell_type": "code",
      "execution_count": null,
      "metadata": {
        "id": "eaxhEf7KKPsq"
      },
      "outputs": [],
      "source": [
        "# implement linear regression model"
      ]
    },
    {
      "cell_type": "code",
      "execution_count": null,
      "metadata": {
        "id": "9XwK4AsIKpLR"
      },
      "outputs": [],
      "source": [
        "# implement random forest regressor"
      ]
    },
    {
      "cell_type": "code",
      "execution_count": null,
      "metadata": {
        "id": "YSIIETdEKtPk"
      },
      "outputs": [],
      "source": [
        " # evaluate both models"
      ]
    },
    {
      "cell_type": "code",
      "execution_count": null,
      "metadata": {
        "id": "k2EUqudFKw5t"
      },
      "outputs": [],
      "source": [
        "# compare the models"
      ]
    }
  ],
  "metadata": {
    "colab": {
      "provenance": []
    },
    "kernelspec": {
      "display_name": "Python 3",
      "name": "python3"
    },
    "language_info": {
      "name": "python"
    }
  },
  "nbformat": 4,
  "nbformat_minor": 0
}
